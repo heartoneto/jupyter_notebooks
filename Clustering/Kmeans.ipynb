{
 "cells": [
  {
   "cell_type": "code",
   "execution_count": 5,
   "id": "a1826f48",
   "metadata": {},
   "outputs": [],
   "source": [
    "from sklearn.cluster import KMeans\n",
    "import pandas as pd\n",
    "import matplotlib.pyplot as plt\n",
    "from matplotlib import style\n"
   ]
  },
  {
   "cell_type": "code",
   "execution_count": 6,
   "id": "9841aa4d",
   "metadata": {},
   "outputs": [
    {
     "name": "stdout",
     "output_type": "stream",
     "text": [
      "     x     y\n",
      "0  1.0   2.0\n",
      "1  5.0   8.0\n",
      "2  1.5   1.8\n",
      "3  8.0   8.0\n",
      "4  1.0   0.6\n",
      "5  9.0  11.0\n"
     ]
    }
   ],
   "source": [
    "# cargar los datos \n",
    "data = pd.DataFrame([[1, 2],\n",
    "              [5, 8],\n",
    "              [1.5, 1.8],\n",
    "              [8, 8],\n",
    "              [1, 0.6],\n",
    "              [9, 11]], columns=['x','y'])\n",
    "print(data)"
   ]
  },
  {
   "cell_type": "code",
   "execution_count": 7,
   "id": "16e42379",
   "metadata": {},
   "outputs": [
    {
     "name": "stdout",
     "output_type": "stream",
     "text": [
      "Centroids: [[1.16666667 1.46666667]\n",
      " [7.33333333 9.        ]]\n",
      "Labels: [0 1 0 1 0 1]\n"
     ]
    }
   ],
   "source": [
    "# correr el algoritmo de \"agrupación\"\n",
    "kmeans = KMeans(n_clusters=2, n_init='auto').fit(data)\n",
    "\n",
    "# guardar los centroides y las etiquetas\n",
    "centroids = kmeans.cluster_centers_\n",
    "labels = kmeans.labels_\n",
    "\n",
    "print(\"Centroids:\", centroids)\n",
    "print(\"Labels:\", labels)"
   ]
  },
  {
   "cell_type": "code",
   "execution_count": 8,
   "id": "0350d805",
   "metadata": {},
   "outputs": [
    {
     "data": {
      "image/png": "[encoded data removed]",
      "text/plain": [
       "<Figure size 640x480 with 1 Axes>"
      ]
     },
     "metadata": {},
     "output_type": "display_data"
    }
   ],
   "source": [
    "# guardar las etiquetas\n",
    "data['labels'] = labels\n",
    "\n",
    "# visualizar los datos\n",
    "group1 = data[data['labels']==0].plot.scatter(x='x', y='y', c='red')\n",
    "group2 = data[data['labels']==1].plot.scatter(x='x', y='y', c='green', ax=group1)\n",
    "\n",
    "# visualizar los clústeres\n",
    "plt.scatter(centroids[:, 0], centroids[:, 1], marker=\"x\", s=150, linewidth=3, zorder=10)\n",
    "\n",
    "# leyenda\n",
    "plt.legend(['0', '1', 'cluster'])\n",
    "\n",
    "plt.show()"
   ]
  },
  {
   "cell_type": "code",
   "execution_count": null,
   "id": "0d604eea",
   "metadata": {},
   "outputs": [],
   "source": []
  }
 ],
 "metadata": {
  "kernelspec": {
   "display_name": "Python 3 (ipykernel)",
   "language": "python",
   "name": "python3"
  },
  "language_info": {
   "codemirror_mode": {
    "name": "ipython",
    "version": 3
   },
   "file_extension": ".py",
   "mimetype": "text/x-python",
   "name": "python",
   "nbconvert_exporter": "python",
   "pygments_lexer": "ipython3",
   "version": "3.10.6"
  }
 },
 "nbformat": 4,
 "nbformat_minor": 5
}
